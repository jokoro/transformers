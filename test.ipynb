{
 "cells": [
  {
   "cell_type": "code",
   "execution_count": 47,
   "metadata": {},
   "outputs": [
    {
     "data": {
      "text/plain": [
       "tensor([[False, False],\n",
       "        [ True, False]])"
      ]
     },
     "execution_count": 47,
     "metadata": {},
     "output_type": "execute_result"
    }
   ],
   "source": [
    "import torch\n",
    "from torch import nn\n",
    "\n",
    "torch.manual_seed(0)\n",
    "_len = 2\n",
    "# mask = torch.ones(_len, _len)\n",
    "# args = (mask==mask).argwhere().reshape(*mask.shape, mask.ndim)\n",
    "# args[:,:,0] > args[:,:,1]\n",
    "t = torch.arange(_len)\n",
    "i, j = torch.meshgrid(t, t)\n",
    "i > j"
   ]
  }
 ],
 "metadata": {
  "kernelspec": {
   "display_name": "vis_env2",
   "language": "python",
   "name": "python3"
  },
  "language_info": {
   "codemirror_mode": {
    "name": "ipython",
    "version": 3
   },
   "file_extension": ".py",
   "mimetype": "text/x-python",
   "name": "python",
   "nbconvert_exporter": "python",
   "pygments_lexer": "ipython3",
   "version": "3.8.0"
  }
 },
 "nbformat": 4,
 "nbformat_minor": 2
}
